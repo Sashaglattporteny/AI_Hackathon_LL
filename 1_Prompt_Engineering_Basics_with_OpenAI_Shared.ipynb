{
  "nbformat": 4,
  "nbformat_minor": 0,
  "metadata": {
    "colab": {
      "provenance": [],
      "collapsed_sections": [
        "RALXoRjlD-I-"
      ],
      "include_colab_link": true
    },
    "kernelspec": {
      "name": "python3",
      "display_name": "Python 3"
    },
    "language_info": {
      "name": "python"
    }
  },
  "cells": [
    {
      "cell_type": "markdown",
      "metadata": {
        "id": "view-in-github",
        "colab_type": "text"
      },
      "source": [
        "<a href=\"https://colab.research.google.com/github/Sashaglattporteny/AI_Hackathon_LL/blob/main/1_Prompt_Engineering_Basics_with_OpenAI_Shared.ipynb\" target=\"_parent\"><img src=\"https://colab.research.google.com/assets/colab-badge.svg\" alt=\"Open In Colab\"/></a>"
      ]
    },
    {
      "cell_type": "markdown",
      "source": [
        "### Prompt Engineering with OpenAI"
      ],
      "metadata": {
        "id": "5mS0Pk2PuSZ3"
      }
    },
    {
      "cell_type": "code",
      "source": [
        "# Line Wrapping\n",
        "from IPython.display import HTML, display\n",
        "\n",
        "def set_css():\n",
        "  display(HTML('''\n",
        "  <style>\n",
        "    pre {\n",
        "        white-space: pre-wrap;\n",
        "    }\n",
        "  </style>\n",
        "  '''))\n",
        "get_ipython().events.register('pre_run_cell', set_css)"
      ],
      "metadata": {
        "id": "IkNCND3ULQYD"
      },
      "execution_count": null,
      "outputs": []
    },
    {
      "cell_type": "code",
      "source": [
        "!pip install openai"
      ],
      "metadata": {
        "id": "efDy4imPtamS"
      },
      "execution_count": null,
      "outputs": []
    },
    {
      "cell_type": "code",
      "execution_count": null,
      "metadata": {
        "id": "AIZsUd_PtSQ9"
      },
      "outputs": [],
      "source": [
        "from openai import OpenAI\n",
        "# Set your API key\n",
        "client = OpenAI(api_key=\"sk-\")"
      ]
    },
    {
      "cell_type": "code",
      "source": [
        "def get_response(prompt, temperature=0):\n",
        "  # Create a request to the chat completions endpoint\n",
        "  response = client.chat.completions.create(\n",
        "    model=\"gpt-3.5-turbo\",\n",
        "    # Assign the role and content for the message\n",
        "    messages=[{\"role\": \"user\", \"content\": prompt}],\n",
        "    temperature = temperature\n",
        "    #seed = 123\n",
        "    )\n",
        "  return response.choices[0].message.content"
      ],
      "metadata": {
        "id": "mUroc6BPGgUD"
      },
      "execution_count": null,
      "outputs": []
    },
    {
      "cell_type": "markdown",
      "source": [
        "### Test"
      ],
      "metadata": {
        "id": "F50FPkydCpV1"
      }
    },
    {
      "cell_type": "code",
      "source": [
        "# Test the function with your prompt\n",
        "prompt = \"What are the top 3 things I can do in Madrid?\"\n",
        "response = get_response(prompt)\n",
        "print(response)"
      ],
      "metadata": {
        "id": "TIw1A5dtteUb"
      },
      "execution_count": null,
      "outputs": []
    },
    {
      "cell_type": "code",
      "source": [
        "# Now try with a higher temperature\n",
        "response = get_response(prompt, temperature = 1.5)\n",
        "print(response)"
      ],
      "metadata": {
        "id": "WCVThrovAfYF"
      },
      "execution_count": null,
      "outputs": []
    },
    {
      "cell_type": "markdown",
      "source": [
        "# 1.-Appropriate action verbs"
      ],
      "metadata": {
        "id": "hx-EW8hZKQwU"
      }
    },
    {
      "cell_type": "code",
      "source": [
        "prompt = \"Think about the issue of deforestation.\"\n",
        "response = get_response(prompt)\n",
        "print(response)"
      ],
      "metadata": {
        "id": "Wx0212FEKT8q"
      },
      "execution_count": null,
      "outputs": []
    },
    {
      "cell_type": "code",
      "source": [
        "prompt = \"Propose strategies to reduce deforestation.\"\n",
        "response = get_response(prompt)\n",
        "print(response)"
      ],
      "metadata": {
        "id": "dLbuldpFLeKa"
      },
      "execution_count": null,
      "outputs": []
    },
    {
      "cell_type": "markdown",
      "source": [
        "# 2.-Detailed instructions and adopting a persona"
      ],
      "metadata": {
        "id": "Jkiusz5HHJqQ"
      }
    },
    {
      "cell_type": "code",
      "source": [
        "story = \"Madrid is the capital and largest city of Spain,\"\n",
        "\n",
        "# Create a request to complete the story\n",
        "prompt = f\"\"\"Complete the story delimited by triple backticks with only two paragraphs using the style of William Shakespeare.\n",
        " ```{story}```\"\"\"\n",
        "\n",
        "# Get the generated response\n",
        "response = get_response(prompt)\n",
        "\n",
        "print(\"\\n Original story: \\n\", story)\n",
        "print(\"\\n Generated story: \\n\", response)"
      ],
      "metadata": {
        "id": "QnGx9AdhyDA2"
      },
      "execution_count": null,
      "outputs": []
    },
    {
      "cell_type": "code",
      "source": [
        "story = \"Madrid, the vibrant heart of Spain, is not just a geographical entity but a living mosaic of history and modernity.\\\n",
        "As one of Europe's most dynamic capitals, it dances to the rhythm of daily life that seamlessly blends tradition with contemporary flair.\\\n",
        "Culturally rich, Madrid is a treasure trove of museums, historic sites, and theaters, with the Prado Museum holding the city's artistic crown\"\n",
        "#  Create a request to summarize the story\n",
        "prompt = f\"\"\"Summarize the text delimited by triple backticks\n",
        " ```{story}```\"\"\"\n",
        "\n",
        "# Get the generated response\n",
        "response = get_response(prompt)\n",
        "\n",
        "print(\"\\n Original story: \\n\", story)\n",
        "print(\"\\n Summarized story: \\n\", response)"
      ],
      "metadata": {
        "id": "jrqBqK2dOWgx"
      },
      "execution_count": null,
      "outputs": []
    },
    {
      "cell_type": "markdown",
      "source": [
        "# 3.-Precise Descriptions"
      ],
      "metadata": {
        "id": "Z6kV4dKLLnlq"
      }
    },
    {
      "cell_type": "code",
      "source": [
        "prompt = \"Write a two sentence text explaining prompt engineering.\"\n",
        "response = get_response(prompt)\n",
        "print(response)"
      ],
      "metadata": {
        "id": "Mfj-p-6oL3CT"
      },
      "execution_count": null,
      "outputs": []
    },
    {
      "cell_type": "markdown",
      "source": [
        "# 4.-Well Structured and delimited prompts"
      ],
      "metadata": {
        "id": "Gm-0wEmkzaAk"
      }
    },
    {
      "cell_type": "code",
      "source": [
        "prompt = \"Generate a table containing 10 movies I should watch if I am an action lover, with columns for Title, Year and Rating\"\n",
        "print(get_response(prompt))"
      ],
      "metadata": {
        "id": "kuDjUq4hzF_B"
      },
      "execution_count": null,
      "outputs": []
    },
    {
      "cell_type": "code",
      "source": [
        "prompt = \"Generate a list with the names top 5 countries to visit\"\n",
        "print(get_response(prompt))"
      ],
      "metadata": {
        "id": "fR1cpKpWziv2"
      },
      "execution_count": null,
      "outputs": []
    },
    {
      "cell_type": "code",
      "source": [
        "prompt = \"Generate an unordered list with the names top 5 countries to visit\"\n",
        "print(get_response(prompt))"
      ],
      "metadata": {
        "id": "wd4AUQpWz-G1"
      },
      "execution_count": null,
      "outputs": []
    },
    {
      "cell_type": "code",
      "source": [
        "prompt = \"Provide a structured paragraph with clear headings and subheadings about the benefit of regular exercise on overall health and well-being\"\n",
        "print(get_response(prompt))"
      ],
      "metadata": {
        "id": "fi8foyE00Hac"
      },
      "execution_count": null,
      "outputs": []
    },
    {
      "cell_type": "code",
      "source": [
        "text = \"I think the vacation is okay.\"\n",
        "prompt = \"Classify the ```f{text}´´´ into neutral, negative or positive.\"\n",
        "\n",
        "\n",
        "print(get_response(prompt))\n"
      ],
      "metadata": {
        "id": "6bjE1vRYSxLN"
      },
      "execution_count": null,
      "outputs": []
    },
    {
      "cell_type": "markdown",
      "source": [
        "# 5.-Conditional Prompts"
      ],
      "metadata": {
        "id": "RALXoRjlD-I-"
      }
    },
    {
      "cell_type": "code",
      "source": [
        "text = \"Madrid, the vibrant capital of Spain, stands at the heart of the Iberian Peninsula. Renowned for its rich cultural heritage, Madrid boasts an impressive array of historic sites, including the Royal Palace, Prado Museum, and Plaza Mayor. It's a city where art and history intersect, home to masterpieces by Spanish painters like Velázquez and Goya. \"\n",
        "\n",
        "prompt = f\"\"\"You will be provided with a text delimiter by triple backtips. If the text is written in english, suggest a title, othwerwise write 'I only understand English'.\n",
        "```{text}´´´\"\"\"\n",
        "print(get_response(prompt))"
      ],
      "metadata": {
        "id": "moeoBeiBEIus"
      },
      "execution_count": null,
      "outputs": []
    },
    {
      "cell_type": "markdown",
      "source": [
        "We can add multiple conditions"
      ],
      "metadata": {
        "id": "8P8viSimEXaV"
      }
    },
    {
      "cell_type": "code",
      "source": [
        "#text = \"I love using LLMS\"\n",
        "text = \"Madrid es la capital de España\"\n",
        "\n",
        "prompt = f\"\"\"You will be provided with a text delimiter by triple backtips. If the text is written in english and contains the word love, suggest a title, othwerwise write 'I only understand English'.\n",
        "```{text}´´´\"\"\"\n",
        "print(get_response(prompt))"
      ],
      "metadata": {
        "id": "ZU92GFGaEZR5"
      },
      "execution_count": null,
      "outputs": []
    }
  ]
}